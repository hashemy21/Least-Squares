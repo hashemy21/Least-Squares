{
 "cells": [
  {
   "cell_type": "code",
   "execution_count": 29,
   "metadata": {},
   "outputs": [],
   "source": [
    "import pandas as pd\n",
    "import numpy as np"
   ]
  },
  {
   "cell_type": "code",
   "execution_count": 30,
   "metadata": {},
   "outputs": [],
   "source": [
    "trainingData = pd.read_csv('Train.csv')\n",
    "testingData = pd.read_csv('Test.csv')\n",
    "\n",
    "length = np.array([trainingData[\"PetalLengthCm\"]])\n",
    "width = np.array([trainingData[\"PetalWidthCm\"]])\n",
    "Species = np.array([trainingData[\"Species\"]])\n",
    "\n",
    "labeledData = np.array([testingData[\"Species\"]], dtype=object)\n",
    "predicted_values=np.empty (labeledData.size, dtype=object)"
   ]
  },
  {
   "cell_type": "code",
   "execution_count": 31,
   "metadata": {},
   "outputs": [],
   "source": [
    "x_tilda = np.concatenate((length.reshape(length.size,1), width.reshape(width.size,1), np.ones((length.size,1))), axis=1)"
   ]
  },
  {
   "cell_type": "code",
   "execution_count": 32,
   "metadata": {},
   "outputs": [
    {
     "data": {
      "text/plain": [
       "array([[ 0.57079356],\n",
       "       [-1.18057071],\n",
       "       [-1.0433656 ]])"
      ]
     },
     "execution_count": 32,
     "metadata": {},
     "output_type": "execute_result"
    }
   ],
   "source": [
    "targetVersicolor = np.where(Species=='Iris-versicolor' , 1, -1).reshape(Species.size,1)\n",
    "wVersicolor = np.linalg.inv(x_tilda.T @ x_tilda) @ x_tilda.T @ targetVersicolor\n",
    "wVersicolor"
   ]
  },
  {
   "cell_type": "code",
   "execution_count": 33,
   "metadata": {},
   "outputs": [
    {
     "data": {
      "text/plain": [
       "array([[-0.50070391],\n",
       "       [ 0.03941776],\n",
       "       [ 1.48011265]])"
      ]
     },
     "execution_count": 33,
     "metadata": {},
     "output_type": "execute_result"
    }
   ],
   "source": [
    "targetSetosa = np.where(Species=='Iris-setosa' , 1, -1).reshape(Species.size,1)\n",
    "wSetosa = np.linalg.inv(x_tilda.T @ x_tilda) @ x_tilda.T @ targetSetosa\n",
    "wSetosa"
   ]
  },
  {
   "cell_type": "code",
   "execution_count": 34,
   "metadata": {},
   "outputs": [
    {
     "data": {
      "text/plain": [
       "array([[-0.07008965],\n",
       "       [ 1.14115295],\n",
       "       [-1.43674706]])"
      ]
     },
     "execution_count": 34,
     "metadata": {},
     "output_type": "execute_result"
    }
   ],
   "source": [
    "targetVirginica = np.where(Species=='Iris-virginica' , 1, -1).reshape(Species.size,1)\n",
    "wVirginica = np.linalg.inv(x_tilda.T @ x_tilda) @ x_tilda.T @ targetVirginica\n",
    "wVirginica"
   ]
  },
  {
   "cell_type": "code",
   "execution_count": 35,
   "metadata": {},
   "outputs": [],
   "source": [
    "def Setosa(l,w):\n",
    "    return l*(-0.50070391)+w*(0.03941776)+1.48011265"
   ]
  },
  {
   "cell_type": "code",
   "execution_count": 36,
   "metadata": {},
   "outputs": [],
   "source": [
    "def Versicolor(l,w):\n",
    "    return l*(0.57079356)-w*(1.18057071)-1.0433656"
   ]
  },
  {
   "cell_type": "code",
   "execution_count": 37,
   "metadata": {},
   "outputs": [],
   "source": [
    "def Virginica(l,w):\n",
    "    return l*(-0.07008965)+w*(1.14115295)-1.43674706"
   ]
  },
  {
   "cell_type": "code",
   "execution_count": 38,
   "metadata": {},
   "outputs": [
    {
     "data": {
      "text/plain": [
       "array(['Iris-versicolor', 'Iris-setosa', 'Iris-virginica',\n",
       "       'Iris-virginica', 'Iris-versicolor', 'Iris-setosa',\n",
       "       'Iris-virginica', 'Iris-virginica', 'Iris-virginica',\n",
       "       'Iris-versicolor', 'Iris-virginica', 'Iris-setosa', 'Iris-setosa',\n",
       "       'Iris-setosa', 'Iris-setosa', 'Iris-virginica', 'Iris-virginica',\n",
       "       'Iris-versicolor', 'Iris-versicolor', 'Iris-virginica',\n",
       "       'Iris-setosa', 'Iris-virginica', 'Iris-setosa', 'Iris-virginica',\n",
       "       'Iris-virginica', 'Iris-virginica', 'Iris-virginica',\n",
       "       'Iris-virginica', 'Iris-setosa', 'Iris-setosa', 'Iris-setosa',\n",
       "       'Iris-setosa', 'Iris-virginica', 'Iris-setosa', 'Iris-setosa',\n",
       "       'Iris-virginica', 'Iris-virginica', 'Iris-setosa', 'Iris-setosa',\n",
       "       'Iris-setosa', 'Iris-virginica', 'Iris-virginica',\n",
       "       'Iris-virginica', 'Iris-setosa', 'Iris-setosa'], dtype=object)"
      ]
     },
     "execution_count": 38,
     "metadata": {},
     "output_type": "execute_result"
    }
   ],
   "source": [
    "for i in range(0, labeledData.size):\n",
    "    petalLength=testingData.loc[i][\"PetalLengthCm\"]\n",
    "    petalWidth=testingData.loc[i][\"PetalWidthCm\"]\n",
    "\n",
    "    setosa = Setosa(petalLength,petalWidth)\n",
    "    versicolor = Versicolor(petalLength,petalWidth)\n",
    "    virginica = Virginica(petalLength,petalWidth)\n",
    "\n",
    "    if(versicolor>setosa):\n",
    "         if(versicolor>virginica):\n",
    "             predicted_values[i]=\"Iris-versicolor\"\n",
    "         else:\n",
    "             predicted_values[i]=\"Iris-virginica\"\n",
    "    else:\n",
    "         if(setosa>virginica):\n",
    "             predicted_values[i]=\"Iris-setosa\"\n",
    "         else:\n",
    "             predicted_values[i]=\"Iris-virginica\"  \n",
    "\n",
    "predicted_values"
   ]
  },
  {
   "cell_type": "code",
   "execution_count": 39,
   "metadata": {},
   "outputs": [
    {
     "name": "stdout",
     "output_type": "stream",
     "text": [
      "[[19.  0.  0.]\n",
      " [ 0.  5.  8.]\n",
      " [ 0.  0. 13.]]\n"
     ]
    }
   ],
   "source": [
    "def ConfusionMatrix(actual, predicted):\n",
    "    classes = np.unique(labeledData)\n",
    "    conf = np.zeros((len(classes), len(classes)))\n",
    "\n",
    "    for i in range(len(classes)):\n",
    "        for j in range(len(classes)):\n",
    "            conf[i, j] = np.sum((actual == classes[i]) & (predicted == classes[j]))\n",
    "    return conf\n",
    "\n",
    "print(ConfusionMatrix(labeledData, predicted_values))"
   ]
  },
  {
   "cell_type": "code",
   "execution_count": 40,
   "metadata": {},
   "outputs": [
    {
     "data": {
      "text/plain": [
       "82.22222222222221"
      ]
     },
     "execution_count": 40,
     "metadata": {},
     "output_type": "execute_result"
    }
   ],
   "source": [
    "setosaCorrectlyPredicted = 19\n",
    "viginicaCorrectlyPredicted = 13\n",
    "versicolorCorrectlyPredicted = 5\n",
    "versicolorFalselyPredictedAVirginica=8\n",
    "setosaTotal = 19\n",
    "virginicaTotal = 13 \n",
    "versicolorTotal = 13\n",
    "accuracy = (setosaCorrectlyPredicted + viginicaCorrectlyPredicted + versicolorCorrectlyPredicted)/(setosaTotal+virginicaTotal+versicolorTotal)\n",
    "accuracy*100"
   ]
  },
  {
   "cell_type": "code",
   "execution_count": null,
   "metadata": {},
   "outputs": [],
   "source": []
  }
 ],
 "metadata": {
  "kernelspec": {
   "display_name": "Python 3",
   "language": "python",
   "name": "python3"
  },
  "language_info": {
   "codemirror_mode": {
    "name": "ipython",
    "version": 3
   },
   "file_extension": ".py",
   "mimetype": "text/x-python",
   "name": "python",
   "nbconvert_exporter": "python",
   "pygments_lexer": "ipython3",
   "version": "3.8.5"
  }
 },
 "nbformat": 4,
 "nbformat_minor": 4
}
